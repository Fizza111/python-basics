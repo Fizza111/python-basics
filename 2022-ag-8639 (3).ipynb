{
 "cells": [
  {
   "cell_type": "markdown",
   "id": "28fa5a0a-a606-4444-a34d-5aaa466aae32",
   "metadata": {},
   "source": [
    "# Name :             Fizza Tehreem\n",
    "# Ag Number:         2022-ag-8639"
   ]
  },
  {
   "cell_type": "markdown",
   "id": "95f23126-de03-48aa-a89c-b9871bafab40",
   "metadata": {},
   "source": [
    "# Assignment No-1 Python\n"
   ]
  },
  {
   "cell_type": "markdown",
   "id": "849f55a9-7b0c-4024-8216-874d1140130b",
   "metadata": {},
   "source": [
    "## Q1: Print odd numbers from 1 to 19 using a while loop:"
   ]
  },
  {
   "cell_type": "code",
   "execution_count": 8,
   "id": "b08cdf9a-3f82-4029-bb83-a0625ff73450",
   "metadata": {},
   "outputs": [
    {
     "name": "stdout",
     "output_type": "stream",
     "text": [
      "1\n",
      "3\n",
      "5\n",
      "7\n",
      "9\n",
      "11\n",
      "13\n",
      "15\n",
      "17\n",
      "19\n"
     ]
    }
   ],
   "source": [
    "i=1\n",
    "while(i<=20):\n",
    "    print(i)\n",
    "    i=i+2\n",
    "    "
   ]
  },
  {
   "cell_type": "markdown",
   "id": "6981f19a-2a64-45d3-979b-3091a4c9a0b5",
   "metadata": {},
   "source": [
    "## Q2: Reverse a given string using a while loop:"
   ]
  },
  {
   "cell_type": "code",
   "execution_count": 1,
   "id": "c188bd68-ab14-49a6-8781-21d6fe8c215d",
   "metadata": {},
   "outputs": [
    {
     "name": "stdin",
     "output_type": "stream",
     "text": [
      "Enter a string fizza\n"
     ]
    },
    {
     "name": "stdout",
     "output_type": "stream",
     "text": [
      "azzif\n"
     ]
    }
   ],
   "source": [
    "str=input(\"Enter a string\")\n",
    "copy=\"\"\n",
    "i=len(str)-1\n",
    "while(i>=0):\n",
    "    copy=copy+str[i]\n",
    "    i=i-1\n",
    "    \n",
    "print(copy)    "
   ]
  },
  {
   "cell_type": "markdown",
   "id": "62be692c-3bc9-4e09-83f4-8db5a1d248e6",
   "metadata": {},
   "source": [
    "## Q3: Print Fibonacci series up to a certain number using a while loop"
   ]
  },
  {
   "cell_type": "code",
   "execution_count": 32,
   "id": "077b4043-95cb-42c1-b1bf-764c8eee0d29",
   "metadata": {},
   "outputs": [
    {
     "name": "stdin",
     "output_type": "stream",
     "text": [
      "please input a number 4\n"
     ]
    },
    {
     "name": "stdout",
     "output_type": "stream",
     "text": [
      "24\n"
     ]
    }
   ],
   "source": [
    "num=int(input(\"please input a number\"))\n",
    "product=1\n",
    "while(num>0):\n",
    "    product=product*num\n",
    "    num=num-1\n",
    "print(product)\n",
    "    "
   ]
  },
  {
   "cell_type": "markdown",
   "id": "83969f26-5c73-4637-88c7-94f465b65e1b",
   "metadata": {},
   "source": [
    "## Q4: Print Fibonacci series up to a certain number using a while loop"
   ]
  },
  {
   "cell_type": "code",
   "execution_count": 35,
   "id": "4dde802a-7dfc-4f0f-859b-ad17bcdc3b8c",
   "metadata": {},
   "outputs": [
    {
     "name": "stdin",
     "output_type": "stream",
     "text": [
      "please input a number 10\n"
     ]
    },
    {
     "name": "stdout",
     "output_type": "stream",
     "text": [
      "3628800\n"
     ]
    }
   ],
   "source": [
    "num=int(input(\"please input a number\"))\n",
    "product=1\n",
    "while(num>0):\n",
    "    product=product*num\n",
    "    num=num-1\n",
    "print(product)"
   ]
  },
  {
   "cell_type": "markdown",
   "id": "648f731f-769e-4000-8b14-fc0c71792d87",
   "metadata": {},
   "source": [
    "## Q5: Print even numbers from 1 to 20 using a for loop\n"
   ]
  },
  {
   "cell_type": "code",
   "execution_count": 48,
   "id": "a86a533b-e361-4684-9ccf-5eae3a9ec83b",
   "metadata": {},
   "outputs": [
    {
     "name": "stdout",
     "output_type": "stream",
     "text": [
      "2\n",
      "4\n",
      "6\n",
      "8\n",
      "10\n",
      "12\n",
      "14\n",
      "16\n",
      "18\n",
      "20\n"
     ]
    }
   ],
   "source": [
    "for i in range(1,21):\n",
    "    if(i%2==0):\n",
    "        print(i)\n",
    "        \n",
    "    \n",
    "    "
   ]
  },
  {
   "cell_type": "markdown",
   "id": "25f0c05c-b002-472d-87c9-ec28bf9077b5",
   "metadata": {},
   "source": [
    "## Q6: Calculate the product of numbers from 1 to 10 using a for loop\n"
   ]
  },
  {
   "cell_type": "code",
   "execution_count": 51,
   "id": "731e6d41-c247-479f-8c0a-0aafbcb5959f",
   "metadata": {},
   "outputs": [
    {
     "name": "stdout",
     "output_type": "stream",
     "text": [
      "3628800\n"
     ]
    }
   ],
   "source": [
    "product=1\n",
    "for i in range(1,11):\n",
    "    product=product*i\n",
    "print(product)    "
   ]
  },
  {
   "cell_type": "markdown",
   "id": "8735fb05-a6a5-4fc0-bb50-a97dc1f7dbf7",
   "metadata": {},
   "source": [
    "## Q7: Print the elements of a list in reverse order using a for loop"
   ]
  },
  {
   "cell_type": "code",
   "execution_count": 53,
   "id": "6e74ab2d-887c-4c73-821a-6e6c4ce9896c",
   "metadata": {},
   "outputs": [
    {
     "name": "stdout",
     "output_type": "stream",
     "text": [
      "huma\n",
      "laiba\n",
      "ayesha\n",
      "fizza\n"
     ]
    }
   ],
   "source": [
    "list1=[\"fizza\",\"ayesha\",\"laiba\",\"huma\"]\n",
    "for item in reversed(list1):\n",
    "    print(item)\n",
    "   \n",
    "\n"
   ]
  },
  {
   "cell_type": "markdown",
   "id": "7fdade68-a485-407d-8938-cb7d114dcce9",
   "metadata": {},
   "source": [
    "## Q8: Count the number of vowels in a given string using a for loop"
   ]
  },
  {
   "cell_type": "code",
   "execution_count": 1,
   "id": "9cddba58-ea60-4eba-a4cf-fdb03bc09401",
   "metadata": {},
   "outputs": [
    {
     "name": "stdin",
     "output_type": "stream",
     "text": [
      "Enter a string: gevhdsvgfgdshfvdsma\n"
     ]
    },
    {
     "name": "stdout",
     "output_type": "stream",
     "text": [
      "2\n"
     ]
    }
   ],
   "source": [
    "string=input(\"Enter a string:\")\n",
    "count=0\n",
    "for i in string:\n",
    "    if(i==\"a\" or i==\"e\" or i==\"i\" or i==\"o\" or i==\"u\"):\n",
    "        count=count+1\n",
    "print(count)"
   ]
  },
  {
   "cell_type": "markdown",
   "id": "6343fad2-2bf4-4fd4-8729-fdf25c93a985",
   "metadata": {},
   "source": [
    "## Q9: Print following pattern with using any loop or condition."
   ]
  },
  {
   "cell_type": "code",
   "execution_count": 27,
   "id": "735951e5-cf14-4eef-83c0-3848699cc952",
   "metadata": {},
   "outputs": [
    {
     "name": "stdout",
     "output_type": "stream",
     "text": [
      "*****\n",
      "****\n",
      "***\n",
      "**\n",
      "*\n",
      "*\n",
      "**\n",
      "***\n",
      "****\n",
      "*****\n"
     ]
    }
   ],
   "source": [
    "\n",
    "k=5    \n",
    "for i in range(1,6):\n",
    "    print(k*\"*\")\n",
    "    k=k-1\n",
    "   \n",
    "    if(k==0):\n",
    "         for o in range(1,6):\n",
    "            print(o*\"*\")\n"
   ]
  },
  {
   "attachments": {},
   "cell_type": "markdown",
   "id": "aa6df311-10d6-40ab-88a0-50a2b5021748",
   "metadata": {},
   "source": [
    "## Q10: Apply following function in List Data structure in Python.\n",
    "## List1 = [8,7,4,7,85,58,96,9,87,45,25]\n",
    "## choice() remove(85) reverse() extend() sort()\n",
    "## sorted() filter() index() append(1000) pop()\n",
    "## next() range() add() clear()\n",
    "      "
   ]
  },
  {
   "cell_type": "code",
   "execution_count": 38,
   "id": "0c345da0-b2aa-4ee7-8ae3-33eb79da4cd2",
   "metadata": {},
   "outputs": [
    {
     "name": "stdout",
     "output_type": "stream",
     "text": [
      "87\n"
     ]
    }
   ],
   "source": [
    "#choice()\n",
    "import random\n",
    "List1 = [8,7,4,7,85,58,96,9,87,45,25]\n",
    "rndm=random.choice(List1)\n",
    "print(rndm)"
   ]
  },
  {
   "cell_type": "code",
   "execution_count": 40,
   "id": "e9c9fd1b-bedb-4578-8144-cdcfdf13e110",
   "metadata": {},
   "outputs": [
    {
     "name": "stdout",
     "output_type": "stream",
     "text": [
      "[8, 7, 4, 7, 58, 96, 9, 87, 45, 25]\n"
     ]
    }
   ],
   "source": [
    "#remove()\n",
    "List1.remove(85)\n",
    "print(List1)"
   ]
  },
  {
   "cell_type": "code",
   "execution_count": 11,
   "id": "674371d5-ae87-4807-95e0-51809637a98e",
   "metadata": {},
   "outputs": [
    {
     "name": "stdout",
     "output_type": "stream",
     "text": [
      "[4, 7, 7, 8, 9, 25, 45, 58, 85, 87, 96]\n"
     ]
    }
   ],
   "source": [
    "#sorted\n",
    "List1 = [8,7,4,7,85,58,96,9,87,45,25]\n",
    "sortt=sorted(List1)\n",
    "print(sortt)"
   ]
  },
  {
   "cell_type": "code",
   "execution_count": 23,
   "id": "09b9be70-cd79-4366-8b14-e942ae977b5b",
   "metadata": {},
   "outputs": [
    {
     "name": "stdout",
     "output_type": "stream",
     "text": [
      "[96, 87, 85, 58, 45, 25, 9, 8, 7, 7, 4]\n"
     ]
    }
   ],
   "source": [
    "#reversed\n",
    "rev=list(reversed(sortt))\n",
    "print(rev)\n"
   ]
  },
  {
   "cell_type": "code",
   "execution_count": 25,
   "id": "c011b62b-fcc0-410d-af83-b9ee4bc61a75",
   "metadata": {},
   "outputs": [
    {
     "name": "stdout",
     "output_type": "stream",
     "text": [
      "[4, 7, 7, 8, 9, 25, 45, 58, 85, 87, 96]\n"
     ]
    }
   ],
   "source": [
    "#sort\n",
    "rev.sort()\n",
    "print(rev)"
   ]
  },
  {
   "cell_type": "code",
   "execution_count": 27,
   "id": "d11c1337-c96e-40c7-8eb5-16141d3dd9ed",
   "metadata": {},
   "outputs": [
    {
     "name": "stdout",
     "output_type": "stream",
     "text": [
      "[4, 8, 58, 96]\n"
     ]
    }
   ],
   "source": [
    "#filter\n",
    "filterd=list(filter(lambda x: x % 2 == 0, rev))\n",
    "print(filterd)"
   ]
  },
  {
   "cell_type": "code",
   "execution_count": 31,
   "id": "f933d427-09d2-4259-a7de-cb7048b40420",
   "metadata": {},
   "outputs": [
    {
     "name": "stdout",
     "output_type": "stream",
     "text": [
      "1\n"
     ]
    }
   ],
   "source": [
    "#index()\n",
    "index=filterd.index(8)\n",
    "print(index)"
   ]
  },
  {
   "cell_type": "code",
   "execution_count": 33,
   "id": "9965b52f-56ce-449c-835f-0088b20e62b5",
   "metadata": {},
   "outputs": [
    {
     "name": "stdout",
     "output_type": "stream",
     "text": [
      "4\n",
      "8\n",
      "58\n",
      "96\n"
     ]
    }
   ],
   "source": [
    "#iter()\n",
    "iterator=iter(filterd)\n",
    "print(next(iterator))\n",
    "print(next(iterator))\n",
    "print(next(iterator))\n",
    "print(next(iterator))"
   ]
  },
  {
   "cell_type": "code",
   "execution_count": 55,
   "id": "e2764f5d-dc25-4c45-aa89-e262323d6e04",
   "metadata": {},
   "outputs": [
    {
     "name": "stdout",
     "output_type": "stream",
     "text": [
      "index 0 4\n",
      "index 1 8\n",
      "index 2 58\n",
      "index 3 96\n"
     ]
    }
   ],
   "source": [
    "\n",
    "for i,value in enumerate(filterd):\n",
    "    print(\"index\",i,value)"
   ]
  },
  {
   "cell_type": "code",
   "execution_count": 63,
   "id": "f795cb8b-105b-49c0-aa59-d58577a88712",
   "metadata": {},
   "outputs": [
    {
     "name": "stdout",
     "output_type": "stream",
     "text": [
      "[4, 8, 96, '23', 23]\n"
     ]
    }
   ],
   "source": [
    "#pop()\n",
    "filterd.pop(2)\n",
    "print(filterd)"
   ]
  },
  {
   "cell_type": "code",
   "execution_count": 65,
   "id": "b740c87a-4d2d-4a34-a551-191a5cf45e55",
   "metadata": {},
   "outputs": [
    {
     "name": "stdout",
     "output_type": "stream",
     "text": [
      "[4, 8, 96, '23', 23, 23]\n"
     ]
    }
   ],
   "source": [
    "#append()\n",
    "filterd.append(23)\n",
    "print(filterd)"
   ]
  },
  {
   "cell_type": "code",
   "execution_count": 67,
   "id": "fb774729-1e58-4c50-b6cb-b2cc8f07ec10",
   "metadata": {},
   "outputs": [
    {
     "name": "stdout",
     "output_type": "stream",
     "text": [
      "0\n",
      "1\n",
      "2\n",
      "3\n",
      "4\n",
      "5\n"
     ]
    }
   ],
   "source": [
    "#range()\n",
    "for i in range(len(filterd)):\n",
    "    print(i)"
   ]
  },
  {
   "cell_type": "code",
   "execution_count": 69,
   "id": "72d3dd02-7c12-4d66-979c-3345a0de5ad5",
   "metadata": {},
   "outputs": [
    {
     "name": "stdout",
     "output_type": "stream",
     "text": [
      "[4, 8, 96, '23', 23, 23, '5', '3']\n"
     ]
    }
   ],
   "source": [
    "#extend()\n",
    "filterd.extend(\"53\")\n",
    "print(filterd)"
   ]
  },
  {
   "cell_type": "code",
   "execution_count": 71,
   "id": "13fd3975-9042-4460-b18c-6c658c14a1c9",
   "metadata": {},
   "outputs": [
    {
     "name": "stdout",
     "output_type": "stream",
     "text": [
      "[]\n"
     ]
    }
   ],
   "source": [
    "#clear()\n",
    "filterd.clear()\n",
    "print(filterd)"
   ]
  },
  {
   "cell_type": "markdown",
   "id": "a5188b71-74c4-456b-9990-3fcd55a8c42f",
   "metadata": {},
   "source": [
    "### add() function is not used for List in python. insert or append is used for this purpose"
   ]
  },
  {
   "cell_type": "markdown",
   "id": "b7db373c-d005-4b7a-9136-e5a0a953569a",
   "metadata": {},
   "source": [
    "## Q-11 Implement nested to nested to nested dictionary:"
   ]
  },
  {
   "cell_type": "code",
   "execution_count": 31,
   "id": "7e370583-340b-4758-8489-b3f150d321eb",
   "metadata": {},
   "outputs": [],
   "source": [
    "nested_dict={\n",
    "    \"Electronics\":{\n",
    "        \"Laptop\":{\"Brand1\":\"Del1\",\"Brand2\":\"HP\",\"Brand3\":\"ASER\",\"Brand4\":\"TOSHIBA\"},\n",
    "        \"Mobile\":{\"C1\":\"NOKIA\",\"C2\":\"INFINIX\",\"C3\":\"SAMSUNG\",\"C4\":\"OPPo\"}\n",
    "    },\n",
    "    \"Makeup\":{\n",
    "        \"Foundations\":{\"F1\":\"MISSROSE\",\"F2\":\"HUDA BEAUTY\",\"F3\":\"LOREaL\",\"F4\":\"MAC\"},\n",
    "        \"Lipstick\":{\"L1\":\"MEDORA\",\"L2\":\"HUDA BEAUTY\",\"L3\":\"LOREAL\",\"L4\":\"FLARMAR\"}\n",
    "    }\n",
    "}"
   ]
  },
  {
   "cell_type": "markdown",
   "id": "ffb0e5aa-408d-45e5-8941-2b5409a68468",
   "metadata": {},
   "source": [
    "## Print all mobile and laptop types"
   ]
  },
  {
   "cell_type": "code",
   "execution_count": 21,
   "id": "22495f2c-0a2a-4f7c-a23b-0adb8a9a2424",
   "metadata": {},
   "outputs": [
    {
     "name": "stdout",
     "output_type": "stream",
     "text": [
      "Laptop types :\n",
      "Del1\n",
      "HP\n",
      "ASER\n",
      "TOSHIBA\n",
      "\n",
      "Mobile types :\n",
      "NOKIA\n",
      "INFINIX\n",
      "SAMSUNG\n",
      "OPPo\n"
     ]
    }
   ],
   "source": [
    "#values()\n",
    "print(\"Laptop types :\")\n",
    "for types in nested_dict[\"Electronics\"][\"Laptop\"].values():\n",
    "    print(types)\n",
    "print()\n",
    "print(\"Mobile types :\")\n",
    "for types in nested_dict[\"Electronics\"][\"Mobile\"].values():\n",
    "    print(types)\n"
   ]
  },
  {
   "cell_type": "markdown",
   "id": "df3f1e9e-adf0-4458-8ffa-f121c27533d8",
   "metadata": {},
   "source": [
    "## Print all makeup products"
   ]
  },
  {
   "cell_type": "code",
   "execution_count": 57,
   "id": "039591f7-06e4-468e-86b4-826bc8a6a341",
   "metadata": {},
   "outputs": [
    {
     "name": "stdout",
     "output_type": "stream",
     "text": [
      "Makeup Products :\n",
      "Foundation Products= ['MISSROSE', 'HUDA BEAUTY', 'LOREaL', 'MAC']\n",
      "Lipstick Products= ['MEDORA', 'HUDA BEAUTY', 'LOREAL', 'FLARMAR']\n"
     ]
    }
   ],
   "source": [
    "#values()\n",
    "print(\"Makeup Products :\")\n",
    "foundp=[brand for brand in nested_dict[\"Makeup\"][\"Foundations\"].values()]\n",
    "lipp=[brand for brand in nested_dict[\"Makeup\"][\"Lipstick\"].values()]\n",
    "print(\"Foundation Products=\",foundp)\n",
    "print(\"Lipstick Products=\",lipp)"
   ]
  },
  {
   "cell_type": "markdown",
   "id": "4f08ef87-d4bf-4ef2-af53-58bcbd86f830",
   "metadata": {},
   "source": [
    "## Print only mac from dictionary"
   ]
  },
  {
   "cell_type": "code",
   "execution_count": 30,
   "id": "77523a50-0af8-4fb0-9b5f-e25fdddfd75f",
   "metadata": {},
   "outputs": [
    {
     "name": "stdout",
     "output_type": "stream",
     "text": [
      "MAC\n"
     ]
    }
   ],
   "source": [
    "mac= nested_dict[\"Makeup\"][\"Foundations\"][\"F4\"]\n",
    "print(mac)"
   ]
  },
  {
   "cell_type": "markdown",
   "id": "46700d8f-7d20-43ab-a37a-8027d4f4b3e8",
   "metadata": {},
   "source": [
    "## Add new laptop mobile and makeup type in dictionary related parts:"
   ]
  },
  {
   "cell_type": "code",
   "execution_count": 83,
   "id": "177ecbb4-d4fe-4bc7-9446-620ee42cdcb5",
   "metadata": {},
   "outputs": [
    {
     "name": "stdout",
     "output_type": "stream",
     "text": [
      "Mobiles: dict_values(['NOKIA', 'INFINIX', 'SAMSUNG', 'OPPo', 'Redmi'])\n",
      "Laptop: dict_values(['Del1', 'HP', 'ASER', 'TOSHIBA', 'lenovo'])\n"
     ]
    }
   ],
   "source": [
    "#update()\n",
    "nested_dict[\"Electronics\"][\"Mobile\"].update({\"C5\":\"Redmi\"})\n",
    "nested_dict[\"Electronics\"][\"Laptop\"].update({\"Brand5\":\"lenovo\"})\n",
    "print(\"Mobiles:\",nested_dict[\"Electronics\"][\"Mobile\"].values())\n",
    "print(\"Laptop:\",nested_dict[\"Electronics\"][\"Laptop\"].values())"
   ]
  },
  {
   "cell_type": "markdown",
   "id": "fe691efc-4f74-42a6-88b3-22138bc8ba62",
   "metadata": {},
   "source": [
    "## Remove MEDORA from dictionary."
   ]
  },
  {
   "cell_type": "code",
   "execution_count": 29,
   "id": "0d3e35a3-61e0-427b-a6bf-2b9400a79fa1",
   "metadata": {},
   "outputs": [
    {
     "name": "stdout",
     "output_type": "stream",
     "text": [
      "Lipsticks= dict_values(['HUDA BEAUTY', 'LOREAL', 'FLARMAR'])\n"
     ]
    }
   ],
   "source": [
    "#pop()\n",
    "nested_dict[\"Makeup\"][\"Lipstick\"].pop(\"L1\")\n",
    "print(\"Lipsticks=\",nested_dict[\"Makeup\"][\"Lipstick\"].values())\n"
   ]
  },
  {
   "cell_type": "markdown",
   "id": "9be421f8-c104-4d22-84cf-ee1a9003b32f",
   "metadata": {},
   "source": [
    "## Print only Brand3, C4, F4, L2"
   ]
  },
  {
   "cell_type": "code",
   "execution_count": 28,
   "id": "83ddd1a3-9c88-47bd-bb19-9b5f3bc7d3e5",
   "metadata": {},
   "outputs": [
    {
     "name": "stdout",
     "output_type": "stream",
     "text": [
      "Brand3\n",
      "C4\n",
      "F4\n",
      "L2\n"
     ]
    }
   ],
   "source": [
    "#keys()\n",
    "\n",
    "\n",
    "brnd=nested_dict[\"Electronics\"][\"Laptop\"].keys()\n",
    "for i in brnd:\n",
    "    if(i==\"Brand3\"):\n",
    "        print(\"Brand3\")\n",
    "    \n",
    "brnd=nested_dict[\"Electronics\"][\"Mobile\"].keys()\n",
    "for i in brnd:\n",
    "    if(i==\"C4\"):\n",
    "        print(\"C4\")\n",
    "    \n",
    "brnd=nested_dict[\"Makeup\"][\"Foundations\"].keys()\n",
    "for i in brnd:\n",
    "    if(i==\"F4\"):\n",
    "        print(\"F4\")\n",
    "  \n",
    "brnd=nested_dict[\"Makeup\"][\"Lipstick\"].keys()\n",
    "for i in brnd:\n",
    "    if(i==\"L2\"):\n",
    "        print(\"L2\")\n",
    "  "
   ]
  },
  {
   "cell_type": "markdown",
   "id": "8a201766-a666-4d6a-b227-393976c9af79",
   "metadata": {},
   "source": [
    "## Add new complete category and sub category of your desire product in dictionary.\r",
    "."
   ]
  },
  {
   "cell_type": "code",
   "execution_count": 25,
   "id": "e96cc982-f9ca-42ba-8c25-2c9fe28d9f0f",
   "metadata": {},
   "outputs": [
    {
     "name": "stdout",
     "output_type": "stream",
     "text": [
      "{'Electronics': {'Laptop': {'Brand1': 'Del1', 'Brand2': 'HP', 'Brand3': 'ASER', 'Brand4': 'TOSHIBA'}, 'Mobile': {'C1': 'NOKIA', 'C2': 'INFINIX', 'C3': 'SAMSUNG', 'C4': 'OPPo'}}, 'Makeup': {'Foundations': {'F1': 'MISSROSE', 'F2': 'HUDA BEAUTY', 'F3': 'LOREaL', 'F4': 'MAC'}, 'Lipstick': {'L1': 'MEDORA', 'L2': 'HUDA BEAUTY', 'L3': 'LOREAL', 'L4': 'FLARMAR'}}, 'Furniture': {'table': {'T1': 'Comfortable seat'}}}\n"
     ]
    }
   ],
   "source": [
    "#setdefault\n",
    "nested_dict.setdefault(\"Furniture\",{}).setdefault(\"table\",{}).setdefault(\"T1\",\"Comfortable seat\")\n",
    "print(nested_dict)"
   ]
  },
  {
   "cell_type": "markdown",
   "id": "007f9a09-3416-413f-a04d-8f299b93c2bc",
   "metadata": {},
   "source": [
    "## Remove any laptop, mobile, foundation and lipstick from dictionary.\r",
    "."
   ]
  },
  {
   "cell_type": "code",
   "execution_count": 33,
   "id": "35cea3ed-8c97-4d9f-9e1f-7f4d0544079c",
   "metadata": {},
   "outputs": [
    {
     "name": "stdout",
     "output_type": "stream",
     "text": [
      "dict_items([('Brand1', 'Del1'), ('Brand2', 'HP'), ('Brand4', 'TOSHIBA')])\n",
      "dict_items([('C1', 'NOKIA'), ('C3', 'SAMSUNG'), ('C4', 'OPPo')])\n",
      "dict_items([('F1', 'MISSROSE'), ('F2', 'HUDA BEAUTY'), ('F4', 'MAC')])\n",
      "dict_items([('L2', 'HUDA BEAUTY'), ('L3', 'LOREAL'), ('L4', 'FLARMAR')])\n"
     ]
    }
   ],
   "source": [
    "#pop() and items()\n",
    "\n",
    "nested_dict[\"Electronics\"][\"Laptop\"].pop(\"Brand3\")\n",
    "print(nested_dict[\"Electronics\"][\"Laptop\"].items())\n",
    "\n",
    "nested_dict[\"Electronics\"][\"Mobile\"].pop(\"C2\")\n",
    "print(nested_dict[\"Electronics\"][\"Mobile\"].items())\n",
    "\n",
    "nested_dict[\"Makeup\"][\"Foundations\"].pop(\"F3\")\n",
    "print(nested_dict[\"Makeup\"][\"Foundations\"].items())\n",
    "\n",
    "nested_dict[\"Makeup\"][\"Lipstick\"].pop(\"L1\")\n",
    "print(nested_dict[\"Makeup\"][\"Lipstick\"].items())\n",
    "\n"
   ]
  },
  {
   "cell_type": "markdown",
   "id": "880ac460-cb25-4c02-b23d-afdc4c90d488",
   "metadata": {},
   "source": [
    "## Q-11 Functions and there uses"
   ]
  },
  {
   "cell_type": "code",
   "execution_count": 1,
   "id": "5300d5cb-9683-490d-91fc-551b5819272d",
   "metadata": {},
   "outputs": [
    {
     "name": "stdout",
     "output_type": "stream",
     "text": [
      "{'Electronics': {'Laptop': {'Brand1': 'Del1', 'Brand2': 'HP', 'Brand3': 'ASER', 'Brand4': 'TOSHIBA'}, 'Mobile': {'C1': 'NOKIA', 'C2': 'INFINIX', 'C3': 'SAMSUNG', 'C4': 'OPPo'}}, 'Makeup': {'Foundations': {'F1': 'MISSROSE', 'F2': 'HUDA BEAUTY', 'F3': 'LOREaL', 'F4': 'MAC'}, 'Lipstick': {'L1': 'MEDORA', 'L2': 'HUDA BEAUTY', 'L3': 'LOREAL', 'L4': 'FLARMAR'}}}\n"
     ]
    }
   ],
   "source": [
    "#copy()\n",
    "nested_dict={\n",
    "    \"Electronics\":{\n",
    "        \"Laptop\":{\"Brand1\":\"Del1\",\"Brand2\":\"HP\",\"Brand3\":\"ASER\",\"Brand4\":\"TOSHIBA\"},\n",
    "        \"Mobile\":{\"C1\":\"NOKIA\",\"C2\":\"INFINIX\",\"C3\":\"SAMSUNG\",\"C4\":\"OPPo\"}\n",
    "    },\n",
    "    \"Makeup\":{\n",
    "        \"Foundations\":{\"F1\":\"MISSROSE\",\"F2\":\"HUDA BEAUTY\",\"F3\":\"LOREaL\",\"F4\":\"MAC\"},\n",
    "        \"Lipstick\":{\"L1\":\"MEDORA\",\"L2\":\"HUDA BEAUTY\",\"L3\":\"LOREAL\",\"L4\":\"FLARMAR\"}\n",
    "    }\n",
    "}\n",
    "cpy=nested_dict.copy()\n",
    "print(cpy)"
   ]
  },
  {
   "cell_type": "code",
   "execution_count": 3,
   "id": "23071772-c822-4099-92b1-41b7911bcb7b",
   "metadata": {},
   "outputs": [
    {
     "name": "stdout",
     "output_type": "stream",
     "text": [
      "{'C1': None, 'C2': None, 'C3': None, 'C4': None}\n"
     ]
    }
   ],
   "source": [
    "#fromkeys()\n",
    "new_dict=dict.fromkeys(nested_dict[\"Electronics\"][\"Mobile\"].keys())\n",
    "print(new_dict)"
   ]
  }
 ],
 "metadata": {
  "kernelspec": {
   "display_name": "Python 3 (ipykernel)",
   "language": "python",
   "name": "python3"
  },
  "language_info": {
   "codemirror_mode": {
    "name": "ipython",
    "version": 3
   },
   "file_extension": ".py",
   "mimetype": "text/x-python",
   "name": "python",
   "nbconvert_exporter": "python",
   "pygments_lexer": "ipython3",
   "version": "3.12.4"
  }
 },
 "nbformat": 4,
 "nbformat_minor": 5
}

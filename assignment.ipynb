{
 "cells": [
  {
   "cell_type": "markdown",
   "id": "2cbe9671-bf74-4cb3-880e-a7639a0dfc7b",
   "metadata": {},
   "source": [
    "##python"
   ]
  },
  {
   "cell_type": "code",
   "execution_count": 3,
   "id": "2b9507af-ec1f-46e1-b3b2-cc6273ea4213",
   "metadata": {},
   "outputs": [
    {
     "name": "stdout",
     "output_type": "stream",
     "text": [
      "80\n"
     ]
    }
   ],
   "source": [
    "a=45\n",
    "b=35\n",
    "print(a+b)"
   ]
  },
  {
   "cell_type": "code",
   "execution_count": 7,
   "id": "a1cf989f-f527-493a-811f-bf9d382e0e82",
   "metadata": {},
   "outputs": [
    {
     "name": "stdout",
     "output_type": "stream",
     "text": [
      "string name\n"
     ]
    }
   ],
   "source": [
    "a=\"string\"\n",
    "b=\"name\"\n",
    "print(a+\" \"+b)"
   ]
  },
  {
   "cell_type": "code",
   "execution_count": 9,
   "id": "242c7ccc-702b-479d-9957-49c2ce0b1440",
   "metadata": {},
   "outputs": [
    {
     "name": "stdout",
     "output_type": "stream",
     "text": [
      "123\n"
     ]
    }
   ],
   "source": [
    "a=123\n",
    "b=160\n",
    "if(a<b):\n",
    "    print(a)\n",
    "else:\n",
    "    print(b)"
   ]
  },
  {
   "cell_type": "code",
   "execution_count": 11,
   "id": "437c7429-baf5-4984-a849-02fd3a8def01",
   "metadata": {},
   "outputs": [
    {
     "name": "stdout",
     "output_type": "stream",
     "text": [
      "700\n"
     ]
    }
   ],
   "source": [
    "a=700\n",
    "b=800\n",
    "if(a<b):\n",
    "    print(a)\n",
    "elif(a==b):\n",
    "    print(\"equal\")\n",
    "else:\n",
    "    print(b)"
   ]
  },
  {
   "cell_type": "code",
   "execution_count": 13,
   "id": "d5601259-d5cf-492d-a2cc-eed6b3f936c5",
   "metadata": {},
   "outputs": [
    {
     "name": "stdout",
     "output_type": "stream",
     "text": [
      "['fizza', 'is', 'good']\n"
     ]
    }
   ],
   "source": [
    "a=\"fizza.is.good\"\n",
    "print(a.split(\".\"))\n"
   ]
  },
  {
   "cell_type": "code",
   "execution_count": 21,
   "id": "bfe1de7d-6b4f-4003-b551-f8e380c089bf",
   "metadata": {},
   "outputs": [
    {
     "name": "stdout",
     "output_type": "stream",
     "text": [
      "fizza\n",
      "ayesha\n",
      "laiba\n",
      "javeria\n"
     ]
    }
   ],
   "source": [
    "names=[\"fizza\",\"ayesha\",\"laiba\",\"javeria\"]\n",
    "for i in names:\n",
    "    print(i)\n",
    "            "
   ]
  },
  {
   "cell_type": "code",
   "execution_count": 35,
   "id": "fc06dec9-d9fc-4e4e-b9fb-259914569344",
   "metadata": {},
   "outputs": [
    {
     "name": "stdout",
     "output_type": "stream",
     "text": [
      "person1\n",
      "\n",
      "name:ahmad\n",
      "height:2.3\n",
      "weight:23\n",
      "\n",
      "\n",
      "person2\n",
      "\n",
      "name:ali\n",
      "height:3.4\n",
      "weight:45\n",
      "\n",
      "\n",
      "person3\n",
      "\n",
      "name:mona\n",
      "height:9.0\n",
      "weight:67\n",
      "\n",
      "\n",
      "person4\n",
      "\n",
      "name:aleeza\n",
      "height:4.5\n",
      "weight:45\n",
      "\n",
      "\n"
     ]
    }
   ],
   "source": [
    "\t\t\t\t\t\t#Complex foor in loop\n",
    "names=[\"ahmad\",\"ali\",\"mona\",\"aleeza\"]\n",
    "height=[2.3,3.4,9.0,4.5]\n",
    "weight=[23,45,67,45]\n",
    "for i ,(name,h,w) in enumerate(zip(names,height,weight)):\n",
    "    print(f\"person{i+1}\\n\")\n",
    "    print(f\"name:{name}\")\n",
    "    print(f\"height:{h}\")\n",
    "    print(f\"weight:{w}\")\n",
    "    print(\"\\n\")"
   ]
  },
  {
   "cell_type": "code",
   "execution_count": 1,
   "id": "c0f59623-bf0b-4420-b10b-0a3cf19ede6c",
   "metadata": {},
   "outputs": [
    {
     "name": "stdout",
     "output_type": "stream",
     "text": [
      "ayesha\n",
      "hina\n",
      "aleeza\n",
      "sania\n"
     ]
    }
   ],
   "source": [
    "names=[\"ayesha\",\"hina\",\"aleeza\",\"sania\"]\n",
    "iterable=iter(names)\n",
    "while True:\n",
    "    try:\n",
    "        fruit=next(iterable)\n",
    "        print(fruit)\n",
    "    except:\n",
    "        StopIteration\n",
    "        break  "
   ]
  },
  {
   "cell_type": "code",
   "execution_count": 41,
   "id": "a5f6c87a-acbb-48f1-823d-163bce9bea86",
   "metadata": {},
   "outputs": [
    {
     "name": "stdout",
     "output_type": "stream",
     "text": [
      "['ayesha', 'hina', 'aleeza', 'sania', 'mashal']\n"
     ]
    }
   ],
   "source": [
    "names=[\"ayesha\",\"hina\",\"aleeza\",\"sania\"]\n",
    "names.append(\"mashal\")\n",
    "print(names)"
   ]
  },
  {
   "cell_type": "code",
   "execution_count": 51,
   "id": "fbc34c6d-c994-4491-b28e-f32a7fd66e7a",
   "metadata": {},
   "outputs": [
    {
     "name": "stdout",
     "output_type": "stream",
     "text": [
      "['ayesha', 'fizza', 'hina', 'aleeza', 'sania']\n"
     ]
    }
   ],
   "source": [
    "names=[\"ayesha\",\"hina\",\"aleeza\",\"sania\"]\n",
    "names.insert(1,\"fizza\",)\n",
    "print(names)"
   ]
  },
  {
   "cell_type": "code",
   "execution_count": 61,
   "id": "27145e3d-7429-49c7-b17d-b7ac526733a9",
   "metadata": {},
   "outputs": [
    {
     "name": "stdout",
     "output_type": "stream",
     "text": [
      "['ayesha', 'hina', 'aleeza', 'sania', 'h', 'a', 'm', 'a', 'd']\n"
     ]
    }
   ],
   "source": [
    "names=[\"ayesha\",\"hina\",\"aleeza\",\"sania\"]\n",
    "names.extend(\"hamad\")\n",
    "print(names)"
   ]
  },
  {
   "cell_type": "code",
   "execution_count": null,
   "id": "4e9e9f65-bfb3-417b-bf82-50ad9fc09d6a",
   "metadata": {},
   "outputs": [],
   "source": []
  },
  {
   "cell_type": "code",
   "execution_count": null,
   "id": "6e29f6b6-9bc7-4d17-890d-5e314e54c061",
   "metadata": {},
   "outputs": [],
   "source": []
  },
  {
   "cell_type": "code",
   "execution_count": 87,
   "id": "20f0ac9b-ac4e-4eb1-bb51-bbc1032a17d4",
   "metadata": {},
   "outputs": [
    {
     "name": "stdout",
     "output_type": "stream",
     "text": [
      "{2, 3, 4, 6, 8}\n"
     ]
    }
   ],
   "source": [
    "set1={2,3,4}\n",
    "set2={2,6,8}\n",
    "z=set1.union(set2)\n",
    "print(z)\n"
   ]
  },
  {
   "cell_type": "code",
   "execution_count": 89,
   "id": "f2f2fde5-4895-49fa-ad51-c0d7b57a34e6",
   "metadata": {},
   "outputs": [
    {
     "name": "stdout",
     "output_type": "stream",
     "text": [
      "amal\n",
      "ayesha\n",
      "fizza\n"
     ]
    }
   ],
   "source": [
    "set3={\"fizza\",\"ayesha\",\"amal\"}\n",
    "for i in set3:\n",
    "    print(i)"
   ]
  },
  {
   "cell_type": "code",
   "execution_count": 93,
   "id": "1dc4355c-ced5-4e95-9063-8e4b1dd556fe",
   "metadata": {},
   "outputs": [
    {
     "name": "stdout",
     "output_type": "stream",
     "text": [
      "name fizza\n",
      "class 9\n",
      "degree bscs\n"
     ]
    }
   ],
   "source": [
    "z={\"name\":\"fizza\",\n",
    "  \"class\":9,\n",
    "  \"degree\":\"bscs\"}\n",
    "for x,y in z.items():\n",
    "    print(x,y)"
   ]
  },
  {
   "cell_type": "code",
   "execution_count": 95,
   "id": "1932c844-bbff-48e4-83bf-d1dda8b9b405",
   "metadata": {},
   "outputs": [
    {
     "name": "stdout",
     "output_type": "stream",
     "text": [
      "{'name': 'fizza', 'class': 9, 'degree': 'bscs', 'best': 'always'}\n"
     ]
    }
   ],
   "source": [
    "z[\"best\"]=\"always\"\n",
    "print(z)"
   ]
  },
  {
   "cell_type": "code",
   "execution_count": 101,
   "id": "5af183ee-9497-463d-8807-cf33c1d8840e",
   "metadata": {},
   "outputs": [
    {
     "name": "stdout",
     "output_type": "stream",
     "text": [
      "Hello from a function\n"
     ]
    }
   ],
   "source": [
    "   def my_function():\n",
    "  print(\"Hello from a function\")\n",
    "\n",
    "my_function()"
   ]
  },
  {
   "cell_type": "code",
   "execution_count": 105,
   "id": "01b0fad7-c214-4467-b74c-614fb4943696",
   "metadata": {},
   "outputs": [
    {
     "name": "stdout",
     "output_type": "stream",
     "text": [
      "she is a beautiful girl\n",
      "nothing occured\n",
      "she is a good girl\n"
     ]
    }
   ],
   "source": [
    "x=\"she is a beautiful girl\"\n",
    "\n",
    "try:\n",
    "    print(x)\n",
    "except:\n",
    "    print(\"x is not defined\")\n",
    "else:\n",
    "    print(\"nothing occured\")        \n",
    "print(\"she is a good girl\")"
   ]
  },
  {
   "cell_type": "code",
   "execution_count": 103,
   "id": "955a0a4a-02ce-42b4-8ff8-c52ebad8681f",
   "metadata": {},
   "outputs": [
    {
     "name": "stdin",
     "output_type": "stream",
     "text": [
      "enter 0 for water,1 for snake and 2 for gun 2\n"
     ]
    },
    {
     "name": "stdout",
     "output_type": "stream",
     "text": [
      "you entred 2\n",
      "compter 2\n",
      "draw\n"
     ]
    }
   ],
   "source": [
    "#a small snake water game\n",
    "import random\n",
    "comp=random.randint(0,2)\n",
    "user=int(input(\"enter 0 for water,1 for snake and 2 for gun\"))\n",
    "print(\"you entred\",user)\n",
    "print(\"compter\",comp)\n",
    "if(comp==user):\n",
    "    print(\"draw\")\n",
    "elif(comp==0 and user==2 or comp==1 and user==2 or comp==0 and user==1):\n",
    "    print(\"you won\")\n",
    "else:\n",
    "    print(\"you lost\")  "
   ]
  },
  {
   "cell_type": "code",
   "execution_count": 15,
   "id": "6e0597d5-3121-4635-904e-d8eeb8452767",
   "metadata": {},
   "outputs": [
    {
     "name": "stdout",
     "output_type": "stream",
     "text": [
      "0\n",
      "1\n",
      "2\n",
      "3\n",
      "4\n",
      "5\n",
      "6\n",
      "7\n",
      "8\n",
      "9\n",
      "10\n"
     ]
    }
   ],
   "source": [
    "n=0\n",
    "while(n<=10):\n",
    "    print(n)\n",
    "    n=n+1"
   ]
  },
  {
   "cell_type": "code",
   "execution_count": 17,
   "id": "2ba4b08d-b64c-4a59-bf15-3c907d791f18",
   "metadata": {},
   "outputs": [
    {
     "name": "stdout",
     "output_type": "stream",
     "text": [
      "['__add__', '__class__', '__class_getitem__', '__contains__', '__delattr__', '__delitem__', '__dir__', '__doc__', '__eq__', '__format__', '__ge__', '__getattribute__', '__getitem__', '__getstate__', '__gt__', '__hash__', '__iadd__', '__imul__', '__init__', '__init_subclass__', '__iter__', '__le__', '__len__', '__lt__', '__mul__', '__ne__', '__new__', '__reduce__', '__reduce_ex__', '__repr__', '__reversed__', '__rmul__', '__setattr__', '__setitem__', '__sizeof__', '__str__', '__subclasshook__', 'append', 'clear', 'copy', 'count', 'extend', 'index', 'insert', 'pop', 'remove', 'reverse', 'sort']\n",
      "<built-in method __sizeof__ of list object at 0x000001E38821BC00>\n"
     ]
    }
   ],
   "source": [
    "a=[1,2,3]\n",
    "print(dir(a))     \n",
    "print(a.__sizeof__)"
   ]
  },
  {
   "cell_type": "code",
   "execution_count": 21,
   "id": "901d29b4-e745-48ce-860d-f49132fcb629",
   "metadata": {},
   "outputs": [
    {
     "name": "stdout",
     "output_type": "stream",
     "text": [
      "{'name': 'Ayesha', 'job': 'DB manager', 'lang': 'Python'}\n",
      "{'name': 'hamad', 'job': 'SE'}\n"
     ]
    }
   ],
   "source": [
    "class employee:\n",
    "    def __init__(self,name,job):\n",
    "        self.name=name\n",
    "        self.job=job\n",
    "class job(employee):\n",
    "    def __init__(self,name,job,lang):\n",
    "        super().__init__(name,job)\n",
    "        self.lang=lang\n",
    "fizza=employee(\"fizza tehreem\",\"SE\")\n",
    "ashi=job(\"Ayesha\",\"DB manager\",\"Python\")\n",
    "hamad=employee(\"hamad\",\"SE\")\n",
    "print(ashi.__dict__) \n",
    "print(hamad.__dict__)"
   ]
  },
  {
   "cell_type": "code",
   "execution_count": 23,
   "id": "51c0e066-7fa9-4b07-aa75-fd474fb6c0e9",
   "metadata": {},
   "outputs": [
    {
     "name": "stdout",
     "output_type": "stream",
     "text": [
      "3i + 4J + 5K\n",
      "2i + 9J + 3K\n",
      "2i + 5J + 4K\n"
     ]
    }
   ],
   "source": [
    "class oop:\n",
    "    def __init__(self,i,j,k):\n",
    "        self.i=i\n",
    "        self.k=k\n",
    "        self.j=j\n",
    "    def __str__(self):\n",
    "        return f\"{self.i}i + {self.j}J + {self.k}K\"\n",
    "    def __add__(self,x):\n",
    "        return f\"{self.i+x.i}i + {self.j+x.j}J +{self.k+x.k}k\"\n",
    "vc=oop(3,4,5)\n",
    "print(vc)\n",
    "vl=oop(2,9,3)\n",
    "print(vl)\n",
    "cv=oop(2,5,4)\n",
    "print(cv)"
   ]
  },
  {
   "cell_type": "code",
   "execution_count": 31,
   "id": "fc253037-0cbe-4e00-aef1-b728858e221c",
   "metadata": {},
   "outputs": [
    {
     "name": "stdout",
     "output_type": "stream",
     "text": [
      "['amna']\n"
     ]
    }
   ],
   "source": [
    "mylist=list()\n",
    "mylist.append(\"amna\")\n",
    "print(mylist)"
   ]
  },
  {
   "cell_type": "code",
   "execution_count": 9,
   "id": "982feac4-beeb-408e-bbcd-f9b80092c314",
   "metadata": {},
   "outputs": [
    {
     "name": "stdout",
     "output_type": "stream",
     "text": [
      "0 1 2 3 4 5 6 7 8 9 "
     ]
    }
   ],
   "source": [
    "i=0\n",
    "while(i<10 ):\n",
    "    print(i,end=' ')\n",
    "    i=i+1"
   ]
  },
  {
   "cell_type": "code",
   "execution_count": 11,
   "id": "266a68ad-8b4f-4c01-9fdd-9dd73b009d2c",
   "metadata": {},
   "outputs": [
    {
     "ename": "TypeError",
     "evalue": "Only integers are allowed",
     "output_type": "error",
     "traceback": [
      "\u001b[1;31m---------------------------------------------------------------------------\u001b[0m",
      "\u001b[1;31mTypeError\u001b[0m                                 Traceback (most recent call last)",
      "Cell \u001b[1;32mIn[11], line 4\u001b[0m\n\u001b[0;32m      1\u001b[0m x \u001b[38;5;241m=\u001b[39m \u001b[38;5;124m\"\u001b[39m\u001b[38;5;124mhello\u001b[39m\u001b[38;5;124m\"\u001b[39m\n\u001b[0;32m      3\u001b[0m \u001b[38;5;28;01mif\u001b[39;00m \u001b[38;5;129;01mnot\u001b[39;00m \u001b[38;5;28mtype\u001b[39m(x) \u001b[38;5;129;01mis\u001b[39;00m \u001b[38;5;28mint\u001b[39m:\n\u001b[1;32m----> 4\u001b[0m   \u001b[38;5;28;01mraise\u001b[39;00m \u001b[38;5;167;01mTypeError\u001b[39;00m(\u001b[38;5;124m\"\u001b[39m\u001b[38;5;124mOnly integers are allowed\u001b[39m\u001b[38;5;124m\"\u001b[39m)\n",
      "\u001b[1;31mTypeError\u001b[0m: Only integers are allowed"
     ]
    }
   ],
   "source": [
    "x = \"hello\"\n",
    "\n",
    "if not type(x) is int:\n",
    "  raise TypeError(\"Only integers are allowed\")"
   ]
  },
  {
   "cell_type": "code",
   "execution_count": 13,
   "id": "26a4777e-6330-457d-9f1f-0bd8f914f903",
   "metadata": {},
   "outputs": [
    {
     "name": "stdout",
     "output_type": "stream",
     "text": [
      "('apple', 'banana', 'cherry', 'apple', 'banana', 'cherry')\n"
     ]
    }
   ],
   "source": [
    "fruits = (\"apple\", \"banana\", \"cherry\")\n",
    "mytuple = fruits * 2\n",
    "\n",
    "print(mytuple)"
   ]
  },
  {
   "cell_type": "code",
   "execution_count": 31,
   "id": "865f7bd6-b0dd-4077-bd36-9e0602c54d7d",
   "metadata": {},
   "outputs": [
    {
     "name": "stdout",
     "output_type": "stream",
     "text": [
      "[34, 12, 78, 56, 90]\n"
     ]
    }
   ],
   "source": [
    "myarray=[12,12,12,34,34,56,78,90]\n",
    "myset=list(set(myarray))\n",
    "print(myset)\n",
    "   \n"
   ]
  },
  {
   "cell_type": "code",
   "execution_count": 17,
   "id": "ca56040d-9453-40d7-a825-b44365f8362e",
   "metadata": {},
   "outputs": [
    {
     "name": "stdout",
     "output_type": "stream",
     "text": [
      "[16, 15, 14, 13, 12, 11, 10, 9, 8, 6, 5, 4, 3, 2, 1]\n",
      "[2]\n"
     ]
    }
   ],
   "source": [
    "my_list = [1, 2, 3, 4, 5,6,8,9,10,11,12,13,14,15,16]\n",
    "print(my_list[::-1]) \n",
    "print(my_list[1::-2])\n"
   ]
  },
  {
   "cell_type": "code",
   "execution_count": 23,
   "id": "11a2e2fd-43e5-4158-b610-459fb9277722",
   "metadata": {},
   "outputs": [
    {
     "name": "stdout",
     "output_type": "stream",
     "text": [
      "1\n",
      "2\n",
      "3\n",
      "4\n",
      "5\n",
      "6\n",
      "7\n",
      "[1, 2, 3, 4, 5, 6, 7]\n"
     ]
    }
   ],
   "source": [
    "items=[1,2,3,4,5,6,7]\n",
    "list=[]\n",
    "for i in items:\n",
    "    print(i)\n",
    "    list.append(i)\n",
    "print(list)\n",
    "\n",
    "    "
   ]
  },
  {
   "cell_type": "code",
   "execution_count": 25,
   "id": "ec4a5bab-751c-440f-b177-4057a232db2d",
   "metadata": {},
   "outputs": [
    {
     "name": "stdout",
     "output_type": "stream",
     "text": [
      "[1, 2, 3, 4, 5, 6, 7]\n"
     ]
    }
   ],
   "source": [
    "items = [1, 2, 3, 4, 5, 6, 7]\n",
    "list_ = [i for i in items]\n",
    "print(list_)"
   ]
  },
  {
   "cell_type": "code",
   "execution_count": 37,
   "id": "0dad15cb-26f0-4d6b-bf70-91a122349aee",
   "metadata": {},
   "outputs": [
    {
     "ename": "TypeError",
     "evalue": "'list' object is not callable",
     "output_type": "error",
     "traceback": [
      "\u001b[1;31m---------------------------------------------------------------------------\u001b[0m",
      "\u001b[1;31mTypeError\u001b[0m                                 Traceback (most recent call last)",
      "Cell \u001b[1;32mIn[37], line 2\u001b[0m\n\u001b[0;32m      1\u001b[0m numbers \u001b[38;5;241m=\u001b[39m [\u001b[38;5;241m1\u001b[39m, \u001b[38;5;241m2\u001b[39m, \u001b[38;5;241m3\u001b[39m, \u001b[38;5;241m4\u001b[39m, \u001b[38;5;241m5\u001b[39m]\n\u001b[1;32m----> 2\u001b[0m double_numbers \u001b[38;5;241m=\u001b[39m \u001b[38;5;28mlist\u001b[39m(\u001b[38;5;28mmap\u001b[39m(\u001b[38;5;28;01mlambda\u001b[39;00m x: x \u001b[38;5;241m*\u001b[39m \u001b[38;5;241m2\u001b[39m, numbers))\n\u001b[0;32m      3\u001b[0m \u001b[38;5;28mprint\u001b[39m(double_numbers)\n",
      "\u001b[1;31mTypeError\u001b[0m: 'list' object is not callable"
     ]
    }
   ],
   "source": [
    "numbers = [1, 2, 3, 4, 5]\n",
    "double_numbers = list(map(lambda x: x * 2, numbers))\n",
    "print(double_numbers)"
   ]
  },
  {
   "cell_type": "code",
   "execution_count": 35,
   "id": "50c69a9d-2a30-4f18-8752-fc1b5f358cdb",
   "metadata": {},
   "outputs": [
    {
     "name": "stdout",
     "output_type": "stream",
     "text": [
      "(2, 4, 6, 8, 10)\n"
     ]
    }
   ],
   "source": [
    "numbers = (1, 2, 3, 4, 5)\n",
    "double_numbers = tuple(map(lambda x: x * 2, numbers))\n",
    "print(double_numbers) "
   ]
  },
  {
   "cell_type": "code",
   "execution_count": 39,
   "id": "b3fee684-0bbb-4120-9022-cc1050e834f6",
   "metadata": {},
   "outputs": [
    {
     "ename": "AttributeError",
     "evalue": "'int' object has no attribute 'upper'",
     "output_type": "error",
     "traceback": [
      "\u001b[1;31m---------------------------------------------------------------------------\u001b[0m",
      "\u001b[1;31mAttributeError\u001b[0m                            Traceback (most recent call last)",
      "Cell \u001b[1;32mIn[39], line 2\u001b[0m\n\u001b[0;32m      1\u001b[0m person \u001b[38;5;241m=\u001b[39m {\u001b[38;5;124m'\u001b[39m\u001b[38;5;124mname\u001b[39m\u001b[38;5;124m'\u001b[39m: \u001b[38;5;124m'\u001b[39m\u001b[38;5;124mJohn\u001b[39m\u001b[38;5;124m'\u001b[39m, \u001b[38;5;124m'\u001b[39m\u001b[38;5;124mage\u001b[39m\u001b[38;5;124m'\u001b[39m: \u001b[38;5;241m30\u001b[39m}\n\u001b[1;32m----> 2\u001b[0m uppercase_name \u001b[38;5;241m=\u001b[39m \u001b[38;5;28mdict\u001b[39m(\u001b[38;5;28mmap\u001b[39m(\u001b[38;5;28;01mlambda\u001b[39;00m item: (item[\u001b[38;5;241m0\u001b[39m], item[\u001b[38;5;241m1\u001b[39m]\u001b[38;5;241m.\u001b[39mupper()), person\u001b[38;5;241m.\u001b[39mitems()))\n\u001b[0;32m      3\u001b[0m \u001b[38;5;28mprint\u001b[39m(uppercase_name)\n",
      "Cell \u001b[1;32mIn[39], line 2\u001b[0m, in \u001b[0;36m<lambda>\u001b[1;34m(item)\u001b[0m\n\u001b[0;32m      1\u001b[0m person \u001b[38;5;241m=\u001b[39m {\u001b[38;5;124m'\u001b[39m\u001b[38;5;124mname\u001b[39m\u001b[38;5;124m'\u001b[39m: \u001b[38;5;124m'\u001b[39m\u001b[38;5;124mJohn\u001b[39m\u001b[38;5;124m'\u001b[39m, \u001b[38;5;124m'\u001b[39m\u001b[38;5;124mage\u001b[39m\u001b[38;5;124m'\u001b[39m: \u001b[38;5;241m30\u001b[39m}\n\u001b[1;32m----> 2\u001b[0m uppercase_name \u001b[38;5;241m=\u001b[39m \u001b[38;5;28mdict\u001b[39m(\u001b[38;5;28mmap\u001b[39m(\u001b[38;5;28;01mlambda\u001b[39;00m item: (item[\u001b[38;5;241m0\u001b[39m], item[\u001b[38;5;241m1\u001b[39m]\u001b[38;5;241m.\u001b[39mupper()), person\u001b[38;5;241m.\u001b[39mitems()))\n\u001b[0;32m      3\u001b[0m \u001b[38;5;28mprint\u001b[39m(uppercase_name)\n",
      "\u001b[1;31mAttributeError\u001b[0m: 'int' object has no attribute 'upper'"
     ]
    }
   ],
   "source": [
    "person = {'name': 'John', 'age': 30}\n",
    "uppercase_name = dict(map(lambda item: (item[0], item[1].upper()), person.items()))\n",
    "print(uppercase_name) "
   ]
  },
  {
   "cell_type": "code",
   "execution_count": 41,
   "id": "892640e5-3621-4d8d-9051-5712ca6898d7",
   "metadata": {},
   "outputs": [
    {
     "ename": "TypeError",
     "evalue": "'list' object is not callable",
     "output_type": "error",
     "traceback": [
      "\u001b[1;31m---------------------------------------------------------------------------\u001b[0m",
      "\u001b[1;31mTypeError\u001b[0m                                 Traceback (most recent call last)",
      "Cell \u001b[1;32mIn[41], line 5\u001b[0m\n\u001b[0;32m      2\u001b[0m     \u001b[38;5;28;01mreturn\u001b[39;00m x \u001b[38;5;241m*\u001b[39m\u001b[38;5;241m*\u001b[39m \u001b[38;5;241m2\u001b[39m\n\u001b[0;32m      4\u001b[0m numbers \u001b[38;5;241m=\u001b[39m [\u001b[38;5;241m1\u001b[39m, \u001b[38;5;241m2\u001b[39m, \u001b[38;5;241m3\u001b[39m, \u001b[38;5;241m4\u001b[39m, \u001b[38;5;241m5\u001b[39m]\n\u001b[1;32m----> 5\u001b[0m squares \u001b[38;5;241m=\u001b[39m \u001b[38;5;28mlist\u001b[39m(\u001b[38;5;28mmap\u001b[39m(square, numbers))\n\u001b[0;32m      6\u001b[0m \u001b[38;5;28mprint\u001b[39m(squares)\n",
      "\u001b[1;31mTypeError\u001b[0m: 'list' object is not callable"
     ]
    }
   ],
   "source": [
    "def square(x):\n",
    "    return x ** 2\n",
    "\n",
    "numbers = [1, 2, 3, 4, 5]\n",
    "squares = list(map(square, numbers))\n",
    "print(squares)"
   ]
  }
 ],
 "metadata": {
  "kernelspec": {
   "display_name": "Python 3 (ipykernel)",
   "language": "python",
   "name": "python3"
  },
  "language_info": {
   "codemirror_mode": {
    "name": "ipython",
    "version": 3
   },
   "file_extension": ".py",
   "mimetype": "text/x-python",
   "name": "python",
   "nbconvert_exporter": "python",
   "pygments_lexer": "ipython3",
   "version": "3.12.4"
  }
 },
 "nbformat": 4,
 "nbformat_minor": 5
}
